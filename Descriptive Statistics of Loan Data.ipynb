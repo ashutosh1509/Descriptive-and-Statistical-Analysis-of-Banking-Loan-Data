{
 "cells": [
  {
   "cell_type": "markdown",
   "id": "4891e6d9-6c27-489d-bb1b-8988f23f3ab3",
   "metadata": {},
   "source": [
    "# Descrpitive Analysis\n",
    "### Section 1"
   ]
  },
  {
   "cell_type": "markdown",
   "id": "4e73d2c1-79c8-43e2-a6f0-03a38c2571ba",
   "metadata": {},
   "source": [
    "#### 1. A statistics test was conducted for 10 learners in a class. The mean of their score is 85 and the variance of the score is zero. What can you interpret about the score obtained by all learners?"
   ]
  },
  {
   "cell_type": "markdown",
   "id": "b9b791be-6700-497f-9082-c363b6275a22",
   "metadata": {},
   "source": [
    "Answer: Because the variance of the scores is zero, it means there’s no difference in the scores scored by the learners. They all have got the exact same score that is 85."
   ]
  },
  {
   "cell_type": "markdown",
   "id": "ee932cdc-ef2e-4791-bdf9-41c67a5ae67f",
   "metadata": {},
   "source": [
    "#### 2. In a residential locality, the mean size of the house is 2224 square feet and the median value of the house is 1500 square feet. What can you interpret about the skewness in the distribution of house size? Are there bigger or smaller houses in the residential locality?"
   ]
  },
  {
   "cell_type": "markdown",
   "id": "f16f6e44-0a4f-4714-bb9d-3c1473de50b1",
   "metadata": {},
   "source": [
    "Answer: Because the mean is greater than the median, it means that the distribution of house sizes is right-skewed. it means that there are some very large houses in the neighborhood which are making the average higher and majorly houses are smaller in size. "
   ]
  },
  {
   "cell_type": "markdown",
   "id": "74fa890c-2bf8-4e64-b233-a1d8af35efd8",
   "metadata": {},
   "source": [
    "#### 3. The following table shows the mean and variance of the expenditure for two groups of people. You want to compare the variability in expenditure for both groups with respect to their mean. Which statistical measure would you use to evaluate the variability in expenditure? Please provide an explanation for your answer."
   ]
  },
  {
   "cell_type": "markdown",
   "id": "8dfbf5f2-3436-4f25-ab6f-6a36212e6caf",
   "metadata": {},
   "source": [
    "Answer: To compare the variability in expenses between Group I and Group II, I'll be using the Coefficient of Variation (CV). The CV is a measure that allows us to compare the spread (or variability) of data relative to the mean. The formula of calculating CV is:\n",
    "\n",
    "cv = (Standard Deviation/ Mean)*100\n",
    "\n",
    "cv1 = (125,000/500,000)*100 = 25%\n",
    "cv2 = (10,000/40,000)*100 = 25%\n",
    "\n",
    "Both groups are having the same CV of 25%, which means the spending variation in both the groups is same relative to their averages. "
   ]
  },
  {
   "cell_type": "markdown",
   "id": "48da0b26-b920-4d29-8901-207bcc192ec7",
   "metadata": {},
   "source": [
    "#### 4. During the survey, the ages of 80 patients infected by COVID and admitted to one of the city hospitals were recorded and the collected data is represented in the less than cumulative frequency distribution table.\n",
    "a. Which class interval has the highest frequency?\r",
    "\r\n",
    "b. Which age was affected the least\r\n",
    "\r\n",
    "c. How many patients aged 45 years and above were admittd?\r\n",
    "\r\n",
    "d. Which is the modal class interval in the above daaset\r\n",
    "\r\n",
    "e. What is the median class interval of age?"
   ]
  },
  {
   "cell_type": "markdown",
   "id": "bc38fd7d-ea22-49a5-9339-d461a34fd9bc",
   "metadata": {},
   "source": [
    "Answer: a. 35 - 45 years has the highest frequency. "
   ]
  },
  {
   "cell_type": "markdown",
   "id": "8cc8a37e-a8c2-4dce-ac3e-e973a01de73f",
   "metadata": {},
   "source": [
    "Answer:  b. 55 - 65 years were affected the least. "
   ]
  },
  {
   "cell_type": "markdown",
   "id": "8c29372f-79c1-470d-ad89-6489e99c847d",
   "metadata": {},
   "source": [
    "Answer:  c. 14+5=19, 19 patients aged 45 years and above were admitted."
   ]
  },
  {
   "cell_type": "markdown",
   "id": "dae3592b-8571-419e-b48d-3dce6bc73b0c",
   "metadata": {},
   "source": [
    "Answer:  d. The modal class interval is 35 - 45 years."
   ]
  },
  {
   "cell_type": "markdown",
   "id": "3beb98db-b4e9-4eeb-af61-99d8285d747f",
   "metadata": {},
   "source": [
    "Answer:  e. The cumulative frequency for each category is:\n",
    "1. 5 - 15 years: 6\n",
    "2. 15 - 25 years: 6 + 11 = 17\n",
    "3. 25 - 35 years: 17 + 21 = 38\n",
    "4. 35 - 45 years: 38 + 23 = 61\n",
    "5. 45 - 55 years: 61 + 14 = 75\n",
    "6. 55 - 65 years: 75 + 5 = 80\n",
    "The 40th patient is falling in the 35 - 45 years category. Which means the median class interval is 35 - 45 years."
   ]
  },
  {
   "cell_type": "markdown",
   "id": "85803a7d-d717-4866-b418-65197b29a64a",
   "metadata": {},
   "source": [
    "#### 5. Assume you are the trader and you have invested over the years, and you are worried about the average return on investment. What average method would you use to compute the average return for the data given below?"
   ]
  },
  {
   "cell_type": "markdown",
   "id": "d2ed02f2-65eb-4c1c-a8d4-9571463fe9c3",
   "metadata": {},
   "source": [
    "Answer: A simple average of the annual returns will not be accurate because it doesn't consider the compounding effect of returns. For example, if i gain 50% in one year and lose 50% the next, a simple average would suggest a 0% return. However, in reality, you'd end up with less than you started with due to the compounding effect.\n",
    "Here we will be using geometric mean bacause it is a better way to calculate average returns, especially when dealing with investments.\n",
    "\n",
    "1. Growth Factors: (1.36, 1.23, 0.52, 0.70, 1.15, 1.31)\n",
    "2. Product: 1.36 * 1.23 * 0.52 * 0.70 * 1.15 * 1.31 = 0.958\n",
    "3. Geometric Mean: 0.958^(1/6) = 0.995\n",
    "4. Average Annual Return: (0.995 - 1) * 100 = -0.5%\n",
    "\n",
    "The average annual return on the investment over the 6 years is approx -0.5% which indicates that on average the investment is declined a little each year."
   ]
  },
  {
   "cell_type": "markdown",
   "id": "6e8f6495-8555-42fc-b889-25fb78b9b7b1",
   "metadata": {},
   "source": [
    "6. Suppose you have been told to measure the average height of all the males on the earth. What would be your strategy for the same? Would the average height be a parameter or a statistic? Justify your answer."
   ]
  },
  {
   "cell_type": "markdown",
   "id": "0d702244-a83c-4c85-85b2-cfe8a8942a27",
   "metadata": {},
   "source": [
    "Answer: As we can't measure the height of all the males on the earth beacause that will be a very large data and will consume a lot of time. Insted we can apply statistical sampling approach. It includes selecting a sample of the population and using the data from this sample to make decisions about the entire population. \n",
    "Steps for statistical sampling:\n",
    "1. Divide the world population into strata based on geographic regions, cultural groups, or socioeconomic factors.\n",
    "2. Randomly select a sample of males from each stratum to ensure representation from diverse populations.\n",
    "3. Use standardized measurement techniques to ensure accuracy and consistency across different locations.\n",
    "4. Train data collectors to minimize measurement errors.\n",
    "5. Calculate the sample mean (average height) for each stratum.\n",
    "6. Combine these stratum means, weighted by the proportion of the population in each stratum, to obtain an overall sample mean.\n",
    "7. Use statistical inference techniques (e.g., confidence intervals) to estimate the population mean with a certain level of confidence.\n",
    "\n",
    "Parameter: The actual average height of all males on Earth is a parameter. It's a fixed value that characterizes the entire population.\n",
    "Statistic: The average height calculated from the sample is a statistic. It's a numerical summary of the sample data and is used to estimate the population parameter."
   ]
  },
  {
   "cell_type": "markdown",
   "id": "a97566a5-9359-44d5-9612-c51f560cbb12",
   "metadata": {},
   "source": [
    "# Satistical Analyis of Loan Data \n",
    "### Section 2"
   ]
  },
  {
   "cell_type": "markdown",
   "id": "b0a63527-29fb-4b9e-82eb-d5c70630df7c",
   "metadata": {},
   "source": [
    "#### Question 7: Calculate the z score of the following numbers:\r",
    "\r\n",
    "X = [4.5,6.2,7.3,9.1,10.4,11]"
   ]
  },
  {
   "cell_type": "code",
   "execution_count": 1,
   "id": "44283f11-dfcc-4f64-8a09-6cef132bf8f7",
   "metadata": {},
   "outputs": [],
   "source": [
    "import pandas as pd"
   ]
  },
  {
   "cell_type": "code",
   "execution_count": 2,
   "id": "d373d6e7-7766-484e-98f0-dffd4e04e05b",
   "metadata": {},
   "outputs": [],
   "source": [
    "import numpy as np"
   ]
  },
  {
   "cell_type": "code",
   "execution_count": 3,
   "id": "eb446594-f529-4758-a502-51ff0b5cb832",
   "metadata": {},
   "outputs": [],
   "source": [
    "X = np.array([4.5, 6.2, 7.3, 9.1, 10.4, 11])"
   ]
  },
  {
   "cell_type": "code",
   "execution_count": 4,
   "id": "5c1c8ade-c03c-4370-abf9-cd989170d72f",
   "metadata": {},
   "outputs": [],
   "source": [
    "mean_X = np.mean(X)"
   ]
  },
  {
   "cell_type": "code",
   "execution_count": 5,
   "id": "61995be6-157a-440a-920b-e052432236dc",
   "metadata": {},
   "outputs": [],
   "source": [
    "std_X = np.std(X)"
   ]
  },
  {
   "cell_type": "code",
   "execution_count": 6,
   "id": "f7fd8263-b3d0-4eec-bd52-0d11cc68f82a",
   "metadata": {},
   "outputs": [],
   "source": [
    "z_scores = (X - mean_X) / std_X"
   ]
  },
  {
   "cell_type": "code",
   "execution_count": 7,
   "id": "560feb97-4b49-4a79-84c5-9f4dd690ddb4",
   "metadata": {},
   "outputs": [
    {
     "name": "stdout",
     "output_type": "stream",
     "text": [
      "[-1.55385602 -0.81667781 -0.33968015  0.44086148  1.00458598  1.26476653]\n"
     ]
    }
   ],
   "source": [
    "print(z_scores)"
   ]
  },
  {
   "cell_type": "markdown",
   "id": "d96cf631-6d5e-49f0-95bb-5fa2ae9b91b4",
   "metadata": {},
   "source": [
    "#### Question 8: Give us the statistical summary for all the variables in the dataset."
   ]
  },
  {
   "cell_type": "code",
   "execution_count": 8,
   "id": "74dc0b84-0620-4a64-a45a-50269db00894",
   "metadata": {},
   "outputs": [],
   "source": [
    "df = pd.read_csv(r\"C:\\Users\\Ashutosh Tiwari\\Downloads\\ABADS\\Bank Personal Loan Modelling (1).csv\")"
   ]
  },
  {
   "cell_type": "code",
   "execution_count": 9,
   "id": "1bbeebdd-310b-4afe-a2f1-e29c215e3115",
   "metadata": {
    "scrolled": true
   },
   "outputs": [
    {
     "data": {
      "text/html": [
       "<div>\n",
       "<style scoped>\n",
       "    .dataframe tbody tr th:only-of-type {\n",
       "        vertical-align: middle;\n",
       "    }\n",
       "\n",
       "    .dataframe tbody tr th {\n",
       "        vertical-align: top;\n",
       "    }\n",
       "\n",
       "    .dataframe thead th {\n",
       "        text-align: right;\n",
       "    }\n",
       "</style>\n",
       "<table border=\"1\" class=\"dataframe\">\n",
       "  <thead>\n",
       "    <tr style=\"text-align: right;\">\n",
       "      <th></th>\n",
       "      <th>ID</th>\n",
       "      <th>Age</th>\n",
       "      <th>Experience</th>\n",
       "      <th>Income</th>\n",
       "      <th>ZIP Code</th>\n",
       "      <th>Family</th>\n",
       "      <th>CCAvg</th>\n",
       "      <th>Education</th>\n",
       "      <th>Mortgage</th>\n",
       "      <th>Personal Loan</th>\n",
       "      <th>Securities Account</th>\n",
       "      <th>CD Account</th>\n",
       "      <th>Online</th>\n",
       "      <th>CreditCard</th>\n",
       "    </tr>\n",
       "  </thead>\n",
       "  <tbody>\n",
       "    <tr>\n",
       "      <th>count</th>\n",
       "      <td>5000.000000</td>\n",
       "      <td>5000.000000</td>\n",
       "      <td>5000.000000</td>\n",
       "      <td>5000.000000</td>\n",
       "      <td>5000.000000</td>\n",
       "      <td>5000.000000</td>\n",
       "      <td>5000.000000</td>\n",
       "      <td>5000.000000</td>\n",
       "      <td>5000.000000</td>\n",
       "      <td>5000.000000</td>\n",
       "      <td>5000.000000</td>\n",
       "      <td>5000.00000</td>\n",
       "      <td>5000.000000</td>\n",
       "      <td>5000.000000</td>\n",
       "    </tr>\n",
       "    <tr>\n",
       "      <th>mean</th>\n",
       "      <td>2500.500000</td>\n",
       "      <td>45.338400</td>\n",
       "      <td>20.104600</td>\n",
       "      <td>73.774200</td>\n",
       "      <td>93152.503000</td>\n",
       "      <td>2.396400</td>\n",
       "      <td>1.937938</td>\n",
       "      <td>1.881000</td>\n",
       "      <td>56.498800</td>\n",
       "      <td>0.096000</td>\n",
       "      <td>0.104400</td>\n",
       "      <td>0.06040</td>\n",
       "      <td>0.596800</td>\n",
       "      <td>0.294000</td>\n",
       "    </tr>\n",
       "    <tr>\n",
       "      <th>std</th>\n",
       "      <td>1443.520003</td>\n",
       "      <td>11.463166</td>\n",
       "      <td>11.467954</td>\n",
       "      <td>46.033729</td>\n",
       "      <td>2121.852197</td>\n",
       "      <td>1.147663</td>\n",
       "      <td>1.747659</td>\n",
       "      <td>0.839869</td>\n",
       "      <td>101.713802</td>\n",
       "      <td>0.294621</td>\n",
       "      <td>0.305809</td>\n",
       "      <td>0.23825</td>\n",
       "      <td>0.490589</td>\n",
       "      <td>0.455637</td>\n",
       "    </tr>\n",
       "    <tr>\n",
       "      <th>min</th>\n",
       "      <td>1.000000</td>\n",
       "      <td>23.000000</td>\n",
       "      <td>-3.000000</td>\n",
       "      <td>8.000000</td>\n",
       "      <td>9307.000000</td>\n",
       "      <td>1.000000</td>\n",
       "      <td>0.000000</td>\n",
       "      <td>1.000000</td>\n",
       "      <td>0.000000</td>\n",
       "      <td>0.000000</td>\n",
       "      <td>0.000000</td>\n",
       "      <td>0.00000</td>\n",
       "      <td>0.000000</td>\n",
       "      <td>0.000000</td>\n",
       "    </tr>\n",
       "    <tr>\n",
       "      <th>25%</th>\n",
       "      <td>1250.750000</td>\n",
       "      <td>35.000000</td>\n",
       "      <td>10.000000</td>\n",
       "      <td>39.000000</td>\n",
       "      <td>91911.000000</td>\n",
       "      <td>1.000000</td>\n",
       "      <td>0.700000</td>\n",
       "      <td>1.000000</td>\n",
       "      <td>0.000000</td>\n",
       "      <td>0.000000</td>\n",
       "      <td>0.000000</td>\n",
       "      <td>0.00000</td>\n",
       "      <td>0.000000</td>\n",
       "      <td>0.000000</td>\n",
       "    </tr>\n",
       "    <tr>\n",
       "      <th>50%</th>\n",
       "      <td>2500.500000</td>\n",
       "      <td>45.000000</td>\n",
       "      <td>20.000000</td>\n",
       "      <td>64.000000</td>\n",
       "      <td>93437.000000</td>\n",
       "      <td>2.000000</td>\n",
       "      <td>1.500000</td>\n",
       "      <td>2.000000</td>\n",
       "      <td>0.000000</td>\n",
       "      <td>0.000000</td>\n",
       "      <td>0.000000</td>\n",
       "      <td>0.00000</td>\n",
       "      <td>1.000000</td>\n",
       "      <td>0.000000</td>\n",
       "    </tr>\n",
       "    <tr>\n",
       "      <th>75%</th>\n",
       "      <td>3750.250000</td>\n",
       "      <td>55.000000</td>\n",
       "      <td>30.000000</td>\n",
       "      <td>98.000000</td>\n",
       "      <td>94608.000000</td>\n",
       "      <td>3.000000</td>\n",
       "      <td>2.500000</td>\n",
       "      <td>3.000000</td>\n",
       "      <td>101.000000</td>\n",
       "      <td>0.000000</td>\n",
       "      <td>0.000000</td>\n",
       "      <td>0.00000</td>\n",
       "      <td>1.000000</td>\n",
       "      <td>1.000000</td>\n",
       "    </tr>\n",
       "    <tr>\n",
       "      <th>max</th>\n",
       "      <td>5000.000000</td>\n",
       "      <td>67.000000</td>\n",
       "      <td>43.000000</td>\n",
       "      <td>224.000000</td>\n",
       "      <td>96651.000000</td>\n",
       "      <td>4.000000</td>\n",
       "      <td>10.000000</td>\n",
       "      <td>3.000000</td>\n",
       "      <td>635.000000</td>\n",
       "      <td>1.000000</td>\n",
       "      <td>1.000000</td>\n",
       "      <td>1.00000</td>\n",
       "      <td>1.000000</td>\n",
       "      <td>1.000000</td>\n",
       "    </tr>\n",
       "  </tbody>\n",
       "</table>\n",
       "</div>"
      ],
      "text/plain": [
       "                ID          Age   Experience       Income      ZIP Code  \\\n",
       "count  5000.000000  5000.000000  5000.000000  5000.000000   5000.000000   \n",
       "mean   2500.500000    45.338400    20.104600    73.774200  93152.503000   \n",
       "std    1443.520003    11.463166    11.467954    46.033729   2121.852197   \n",
       "min       1.000000    23.000000    -3.000000     8.000000   9307.000000   \n",
       "25%    1250.750000    35.000000    10.000000    39.000000  91911.000000   \n",
       "50%    2500.500000    45.000000    20.000000    64.000000  93437.000000   \n",
       "75%    3750.250000    55.000000    30.000000    98.000000  94608.000000   \n",
       "max    5000.000000    67.000000    43.000000   224.000000  96651.000000   \n",
       "\n",
       "            Family        CCAvg    Education     Mortgage  Personal Loan  \\\n",
       "count  5000.000000  5000.000000  5000.000000  5000.000000    5000.000000   \n",
       "mean      2.396400     1.937938     1.881000    56.498800       0.096000   \n",
       "std       1.147663     1.747659     0.839869   101.713802       0.294621   \n",
       "min       1.000000     0.000000     1.000000     0.000000       0.000000   \n",
       "25%       1.000000     0.700000     1.000000     0.000000       0.000000   \n",
       "50%       2.000000     1.500000     2.000000     0.000000       0.000000   \n",
       "75%       3.000000     2.500000     3.000000   101.000000       0.000000   \n",
       "max       4.000000    10.000000     3.000000   635.000000       1.000000   \n",
       "\n",
       "       Securities Account  CD Account       Online   CreditCard  \n",
       "count         5000.000000  5000.00000  5000.000000  5000.000000  \n",
       "mean             0.104400     0.06040     0.596800     0.294000  \n",
       "std              0.305809     0.23825     0.490589     0.455637  \n",
       "min              0.000000     0.00000     0.000000     0.000000  \n",
       "25%              0.000000     0.00000     0.000000     0.000000  \n",
       "50%              0.000000     0.00000     1.000000     0.000000  \n",
       "75%              0.000000     0.00000     1.000000     1.000000  \n",
       "max              1.000000     1.00000     1.000000     1.000000  "
      ]
     },
     "execution_count": 9,
     "metadata": {},
     "output_type": "execute_result"
    }
   ],
   "source": [
    "df.describe()"
   ]
  },
  {
   "cell_type": "markdown",
   "id": "48367ef5-c1c8-441c-96f2-3dbf51137960",
   "metadata": {},
   "source": [
    "#### Question 9: Evaluate the measures of central tendency and measures of dispersion for all the quantitative variables in the dataset."
   ]
  },
  {
   "cell_type": "code",
   "execution_count": 10,
   "id": "c1b1e473-bd09-4fcb-8d70-6b72fb8677e6",
   "metadata": {},
   "outputs": [
    {
     "name": "stdout",
     "output_type": "stream",
     "text": [
      "Mean:\n",
      " ID                     2500.500000\n",
      "Age                      45.338400\n",
      "Experience               20.104600\n",
      "Income                   73.774200\n",
      "ZIP Code              93152.503000\n",
      "Family                    2.396400\n",
      "CCAvg                     1.937938\n",
      "Education                 1.881000\n",
      "Mortgage                 56.498800\n",
      "Personal Loan             0.096000\n",
      "Securities Account        0.104400\n",
      "CD Account                0.060400\n",
      "Online                    0.596800\n",
      "CreditCard                0.294000\n",
      "dtype: float64\n",
      "Median:\n",
      " ID                     2500.5\n",
      "Age                      45.0\n",
      "Experience               20.0\n",
      "Income                   64.0\n",
      "ZIP Code              93437.0\n",
      "Family                    2.0\n",
      "CCAvg                     1.5\n",
      "Education                 2.0\n",
      "Mortgage                  0.0\n",
      "Personal Loan             0.0\n",
      "Securities Account        0.0\n",
      "CD Account                0.0\n",
      "Online                    1.0\n",
      "CreditCard                0.0\n",
      "dtype: float64\n",
      "Mode:\n",
      "         ID   Age  Experience  Income  ZIP Code  Family  CCAvg  Education  \\\n",
      "0        1  35.0        32.0    44.0   94720.0     1.0    0.3        1.0   \n",
      "1        2   NaN         NaN     NaN       NaN     NaN    NaN        NaN   \n",
      "2        3   NaN         NaN     NaN       NaN     NaN    NaN        NaN   \n",
      "3        4   NaN         NaN     NaN       NaN     NaN    NaN        NaN   \n",
      "4        5   NaN         NaN     NaN       NaN     NaN    NaN        NaN   \n",
      "...    ...   ...         ...     ...       ...     ...    ...        ...   \n",
      "4995  4996   NaN         NaN     NaN       NaN     NaN    NaN        NaN   \n",
      "4996  4997   NaN         NaN     NaN       NaN     NaN    NaN        NaN   \n",
      "4997  4998   NaN         NaN     NaN       NaN     NaN    NaN        NaN   \n",
      "4998  4999   NaN         NaN     NaN       NaN     NaN    NaN        NaN   \n",
      "4999  5000   NaN         NaN     NaN       NaN     NaN    NaN        NaN   \n",
      "\n",
      "      Mortgage  Personal Loan  Securities Account  CD Account  Online  \\\n",
      "0          0.0            0.0                 0.0         0.0     1.0   \n",
      "1          NaN            NaN                 NaN         NaN     NaN   \n",
      "2          NaN            NaN                 NaN         NaN     NaN   \n",
      "3          NaN            NaN                 NaN         NaN     NaN   \n",
      "4          NaN            NaN                 NaN         NaN     NaN   \n",
      "...        ...            ...                 ...         ...     ...   \n",
      "4995       NaN            NaN                 NaN         NaN     NaN   \n",
      "4996       NaN            NaN                 NaN         NaN     NaN   \n",
      "4997       NaN            NaN                 NaN         NaN     NaN   \n",
      "4998       NaN            NaN                 NaN         NaN     NaN   \n",
      "4999       NaN            NaN                 NaN         NaN     NaN   \n",
      "\n",
      "      CreditCard  \n",
      "0            0.0  \n",
      "1            NaN  \n",
      "2            NaN  \n",
      "3            NaN  \n",
      "4            NaN  \n",
      "...          ...  \n",
      "4995         NaN  \n",
      "4996         NaN  \n",
      "4997         NaN  \n",
      "4998         NaN  \n",
      "4999         NaN  \n",
      "\n",
      "[5000 rows x 14 columns]\n",
      "Standard Deviation:\n",
      " ID                    1443.520003\n",
      "Age                     11.463166\n",
      "Experience              11.467954\n",
      "Income                  46.033729\n",
      "ZIP Code              2121.852197\n",
      "Family                   1.147663\n",
      "CCAvg                    1.747659\n",
      "Education                0.839869\n",
      "Mortgage               101.713802\n",
      "Personal Loan            0.294621\n",
      "Securities Account       0.305809\n",
      "CD Account               0.238250\n",
      "Online                   0.490589\n",
      "CreditCard               0.455637\n",
      "dtype: float64\n",
      "Variance:\n",
      " ID                    2.083750e+06\n",
      "Age                   1.314042e+02\n",
      "Experience            1.315140e+02\n",
      "Income                2.119104e+03\n",
      "ZIP Code              4.502257e+06\n",
      "Family                1.317130e+00\n",
      "CCAvg                 3.054312e+00\n",
      "Education             7.053801e-01\n",
      "Mortgage              1.034570e+04\n",
      "Personal Loan         8.680136e-02\n",
      "Securities Account    9.351934e-02\n",
      "CD Account            5.676319e-02\n",
      "Online                2.406779e-01\n",
      "CreditCard            2.076055e-01\n",
      "dtype: float64\n",
      "IQR:\n",
      " ID                    2499.5\n",
      "Age                     20.0\n",
      "Experience              20.0\n",
      "Income                  59.0\n",
      "ZIP Code              2697.0\n",
      "Family                   2.0\n",
      "CCAvg                    1.8\n",
      "Education                2.0\n",
      "Mortgage               101.0\n",
      "Personal Loan            0.0\n",
      "Securities Account       0.0\n",
      "CD Account               0.0\n",
      "Online                   1.0\n",
      "CreditCard               1.0\n",
      "dtype: float64\n"
     ]
    }
   ],
   "source": [
    "print(\"Mean:\\n\", df.mean()) #mean\n",
    "print(\"Median:\\n\", df.median()) #median\n",
    "print(\"Mode:\\n\", df.mode()) #mode\n",
    "\n",
    "print(\"Standard Deviation:\\n\", df.std())\n",
    "print(\"Variance:\\n\", df.var()) # Dispersion: standard deviation and variance\n",
    "\n",
    "Q1 = df.quantile(0.25)\n",
    "Q3 = df.quantile(0.75)\n",
    "IQR = Q3 - Q1\n",
    "print(\"IQR:\\n\", IQR) # IQR (Interquartile Range)"
   ]
  },
  {
   "cell_type": "markdown",
   "id": "aa3b7b27-5b22-4cc5-8c5c-65975203247d",
   "metadata": {},
   "source": [
    "#### Question 10. What statistical method will you use to examine the presence of a linear relationship between age and experience variables? Also, create a plot to illustrate this relationship."
   ]
  },
  {
   "cell_type": "code",
   "execution_count": 11,
   "id": "3efc6e1e-69b6-42ce-85b4-02b8495885b6",
   "metadata": {},
   "outputs": [
    {
     "name": "stdout",
     "output_type": "stream",
     "text": [
      "Correlation: 0.9942148569683317\n"
     ]
    },
    {
     "data": {
      "image/png": "[encoded data removed]",
      "text/plain": [
       "<Figure size 640x480 with 1 Axes>"
      ]
     },
     "metadata": {},
     "output_type": "display_data"
    }
   ],
   "source": [
    "correlation = df['Age'].corr(df['Experience'])\n",
    "print(\"Correlation:\", correlation) # Correlation between Age and Experience\n",
    "\n",
    "import matplotlib.pyplot as plt\n",
    "\n",
    "plt.scatter(df['Age'], df['Experience'])\n",
    "plt.xlabel('Age')\n",
    "plt.ylabel('Experience')\n",
    "plt.title('Scatter plot between Age and Experience')\n",
    "plt.show()"
   ]
  },
  {
   "cell_type": "markdown",
   "id": "928d170d-d445-4f1f-a65b-020ec90ad989",
   "metadata": {},
   "source": [
    "#### Question 11. What is the most frequent family size observed in this dataset?"
   ]
  },
  {
   "cell_type": "code",
   "execution_count": 12,
   "id": "8ac5296a-fcbc-4970-b430-1b0c76b8d1d1",
   "metadata": {},
   "outputs": [
    {
     "name": "stdout",
     "output_type": "stream",
     "text": [
      "Most frequent family size: 1\n"
     ]
    }
   ],
   "source": [
    "family_mode = df['Family'].mode()[0]\n",
    "print(\"Most frequent family size:\", family_mode)"
   ]
  },
  {
   "cell_type": "markdown",
   "id": "baca6c79-b0ce-4414-b118-58ee98a72f4b",
   "metadata": {},
   "source": [
    "#### Question 12. What is the percentage of variation you can observe in the ‘Income’ variable?"
   ]
  },
  {
   "cell_type": "code",
   "execution_count": 13,
   "id": "68431b02-8708-4156-9119-a616dcb6e685",
   "metadata": {},
   "outputs": [
    {
     "name": "stdout",
     "output_type": "stream",
     "text": [
      "Coefficient of Variation for Income: 62.39814097758612\n"
     ]
    }
   ],
   "source": [
    "income_cv = (df['Income'].std() / df['Income'].mean()) * 100 # CV = (Standard Deviation / Mean) * 100\n",
    "print(\"Coefficient of Variation for Income:\", income_cv) "
   ]
  },
  {
   "cell_type": "markdown",
   "id": "42a564ec-a682-4215-91fd-b64b0051c5ee",
   "metadata": {},
   "source": [
    "#### Question 13. The ‘Mortgage’ variable has a lot of zeroes. Impute with some business logical value that you feel fit for the data."
   ]
  },
  {
   "cell_type": "code",
   "execution_count": 14,
   "id": "b6758f34-2cae-4af9-a91d-1457138a0a86",
   "metadata": {},
   "outputs": [
    {
     "data": {
      "text/html": [
       "<div>\n",
       "<style scoped>\n",
       "    .dataframe tbody tr th:only-of-type {\n",
       "        vertical-align: middle;\n",
       "    }\n",
       "\n",
       "    .dataframe tbody tr th {\n",
       "        vertical-align: top;\n",
       "    }\n",
       "\n",
       "    .dataframe thead th {\n",
       "        text-align: right;\n",
       "    }\n",
       "</style>\n",
       "<table border=\"1\" class=\"dataframe\">\n",
       "  <thead>\n",
       "    <tr style=\"text-align: right;\">\n",
       "      <th></th>\n",
       "      <th>ID</th>\n",
       "      <th>Age</th>\n",
       "      <th>Experience</th>\n",
       "      <th>Income</th>\n",
       "      <th>ZIP Code</th>\n",
       "      <th>Family</th>\n",
       "      <th>CCAvg</th>\n",
       "      <th>Education</th>\n",
       "      <th>Mortgage</th>\n",
       "      <th>Personal Loan</th>\n",
       "      <th>Securities Account</th>\n",
       "      <th>CD Account</th>\n",
       "      <th>Online</th>\n",
       "      <th>CreditCard</th>\n",
       "    </tr>\n",
       "  </thead>\n",
       "  <tbody>\n",
       "    <tr>\n",
       "      <th>0</th>\n",
       "      <td>1</td>\n",
       "      <td>25</td>\n",
       "      <td>1</td>\n",
       "      <td>49</td>\n",
       "      <td>91107</td>\n",
       "      <td>4</td>\n",
       "      <td>1.6</td>\n",
       "      <td>1</td>\n",
       "      <td>153</td>\n",
       "      <td>0</td>\n",
       "      <td>1</td>\n",
       "      <td>0</td>\n",
       "      <td>0</td>\n",
       "      <td>0</td>\n",
       "    </tr>\n",
       "    <tr>\n",
       "      <th>1</th>\n",
       "      <td>2</td>\n",
       "      <td>45</td>\n",
       "      <td>19</td>\n",
       "      <td>34</td>\n",
       "      <td>90089</td>\n",
       "      <td>3</td>\n",
       "      <td>1.5</td>\n",
       "      <td>1</td>\n",
       "      <td>153</td>\n",
       "      <td>0</td>\n",
       "      <td>1</td>\n",
       "      <td>0</td>\n",
       "      <td>0</td>\n",
       "      <td>0</td>\n",
       "    </tr>\n",
       "    <tr>\n",
       "      <th>2</th>\n",
       "      <td>3</td>\n",
       "      <td>39</td>\n",
       "      <td>15</td>\n",
       "      <td>11</td>\n",
       "      <td>94720</td>\n",
       "      <td>1</td>\n",
       "      <td>1.0</td>\n",
       "      <td>1</td>\n",
       "      <td>153</td>\n",
       "      <td>0</td>\n",
       "      <td>0</td>\n",
       "      <td>0</td>\n",
       "      <td>0</td>\n",
       "      <td>0</td>\n",
       "    </tr>\n",
       "    <tr>\n",
       "      <th>3</th>\n",
       "      <td>4</td>\n",
       "      <td>35</td>\n",
       "      <td>9</td>\n",
       "      <td>100</td>\n",
       "      <td>94112</td>\n",
       "      <td>1</td>\n",
       "      <td>2.7</td>\n",
       "      <td>2</td>\n",
       "      <td>153</td>\n",
       "      <td>0</td>\n",
       "      <td>0</td>\n",
       "      <td>0</td>\n",
       "      <td>0</td>\n",
       "      <td>0</td>\n",
       "    </tr>\n",
       "    <tr>\n",
       "      <th>4</th>\n",
       "      <td>5</td>\n",
       "      <td>35</td>\n",
       "      <td>8</td>\n",
       "      <td>45</td>\n",
       "      <td>91330</td>\n",
       "      <td>4</td>\n",
       "      <td>1.0</td>\n",
       "      <td>2</td>\n",
       "      <td>153</td>\n",
       "      <td>0</td>\n",
       "      <td>0</td>\n",
       "      <td>0</td>\n",
       "      <td>0</td>\n",
       "      <td>1</td>\n",
       "    </tr>\n",
       "    <tr>\n",
       "      <th>...</th>\n",
       "      <td>...</td>\n",
       "      <td>...</td>\n",
       "      <td>...</td>\n",
       "      <td>...</td>\n",
       "      <td>...</td>\n",
       "      <td>...</td>\n",
       "      <td>...</td>\n",
       "      <td>...</td>\n",
       "      <td>...</td>\n",
       "      <td>...</td>\n",
       "      <td>...</td>\n",
       "      <td>...</td>\n",
       "      <td>...</td>\n",
       "      <td>...</td>\n",
       "    </tr>\n",
       "    <tr>\n",
       "      <th>4995</th>\n",
       "      <td>4996</td>\n",
       "      <td>29</td>\n",
       "      <td>3</td>\n",
       "      <td>40</td>\n",
       "      <td>92697</td>\n",
       "      <td>1</td>\n",
       "      <td>1.9</td>\n",
       "      <td>3</td>\n",
       "      <td>153</td>\n",
       "      <td>0</td>\n",
       "      <td>0</td>\n",
       "      <td>0</td>\n",
       "      <td>1</td>\n",
       "      <td>0</td>\n",
       "    </tr>\n",
       "    <tr>\n",
       "      <th>4996</th>\n",
       "      <td>4997</td>\n",
       "      <td>30</td>\n",
       "      <td>4</td>\n",
       "      <td>15</td>\n",
       "      <td>92037</td>\n",
       "      <td>4</td>\n",
       "      <td>0.4</td>\n",
       "      <td>1</td>\n",
       "      <td>85</td>\n",
       "      <td>0</td>\n",
       "      <td>0</td>\n",
       "      <td>0</td>\n",
       "      <td>1</td>\n",
       "      <td>0</td>\n",
       "    </tr>\n",
       "    <tr>\n",
       "      <th>4997</th>\n",
       "      <td>4998</td>\n",
       "      <td>63</td>\n",
       "      <td>39</td>\n",
       "      <td>24</td>\n",
       "      <td>93023</td>\n",
       "      <td>2</td>\n",
       "      <td>0.3</td>\n",
       "      <td>3</td>\n",
       "      <td>153</td>\n",
       "      <td>0</td>\n",
       "      <td>0</td>\n",
       "      <td>0</td>\n",
       "      <td>0</td>\n",
       "      <td>0</td>\n",
       "    </tr>\n",
       "    <tr>\n",
       "      <th>4998</th>\n",
       "      <td>4999</td>\n",
       "      <td>65</td>\n",
       "      <td>40</td>\n",
       "      <td>49</td>\n",
       "      <td>90034</td>\n",
       "      <td>3</td>\n",
       "      <td>0.5</td>\n",
       "      <td>2</td>\n",
       "      <td>153</td>\n",
       "      <td>0</td>\n",
       "      <td>0</td>\n",
       "      <td>0</td>\n",
       "      <td>1</td>\n",
       "      <td>0</td>\n",
       "    </tr>\n",
       "    <tr>\n",
       "      <th>4999</th>\n",
       "      <td>5000</td>\n",
       "      <td>28</td>\n",
       "      <td>4</td>\n",
       "      <td>83</td>\n",
       "      <td>92612</td>\n",
       "      <td>3</td>\n",
       "      <td>0.8</td>\n",
       "      <td>1</td>\n",
       "      <td>153</td>\n",
       "      <td>0</td>\n",
       "      <td>0</td>\n",
       "      <td>0</td>\n",
       "      <td>1</td>\n",
       "      <td>1</td>\n",
       "    </tr>\n",
       "  </tbody>\n",
       "</table>\n",
       "<p>5000 rows × 14 columns</p>\n",
       "</div>"
      ],
      "text/plain": [
       "        ID  Age  Experience  Income  ZIP Code  Family  CCAvg  Education  \\\n",
       "0        1   25           1      49     91107       4    1.6          1   \n",
       "1        2   45          19      34     90089       3    1.5          1   \n",
       "2        3   39          15      11     94720       1    1.0          1   \n",
       "3        4   35           9     100     94112       1    2.7          2   \n",
       "4        5   35           8      45     91330       4    1.0          2   \n",
       "...    ...  ...         ...     ...       ...     ...    ...        ...   \n",
       "4995  4996   29           3      40     92697       1    1.9          3   \n",
       "4996  4997   30           4      15     92037       4    0.4          1   \n",
       "4997  4998   63          39      24     93023       2    0.3          3   \n",
       "4998  4999   65          40      49     90034       3    0.5          2   \n",
       "4999  5000   28           4      83     92612       3    0.8          1   \n",
       "\n",
       "      Mortgage  Personal Loan  Securities Account  CD Account  Online  \\\n",
       "0          153              0                   1           0       0   \n",
       "1          153              0                   1           0       0   \n",
       "2          153              0                   0           0       0   \n",
       "3          153              0                   0           0       0   \n",
       "4          153              0                   0           0       0   \n",
       "...        ...            ...                 ...         ...     ...   \n",
       "4995       153              0                   0           0       1   \n",
       "4996        85              0                   0           0       1   \n",
       "4997       153              0                   0           0       0   \n",
       "4998       153              0                   0           0       1   \n",
       "4999       153              0                   0           0       1   \n",
       "\n",
       "      CreditCard  \n",
       "0              0  \n",
       "1              0  \n",
       "2              0  \n",
       "3              0  \n",
       "4              1  \n",
       "...          ...  \n",
       "4995           0  \n",
       "4996           0  \n",
       "4997           0  \n",
       "4998           0  \n",
       "4999           1  \n",
       "\n",
       "[5000 rows x 14 columns]"
      ]
     },
     "execution_count": 14,
     "metadata": {},
     "output_type": "execute_result"
    }
   ],
   "source": [
    "mortgage_median = df[df['Mortgage'] > 0]['Mortgage'].median()\n",
    "df['Mortgage'] = df['Mortgage'].replace(0, mortgage_median) # Imputed zeroes in Mortgage with the median of non-zero values\n",
    "df"
   ]
  },
  {
   "cell_type": "markdown",
   "id": "c0ea1c44-cc6c-4c47-9b66-fcb988fb4df0",
   "metadata": {},
   "source": [
    "#### Question 14. Plot a density curve of the CCAvg variable for the customers who possess credit cards and write an interpretation about its distribution."
   ]
  },
  {
   "cell_type": "code",
   "execution_count": 15,
   "id": "419d61cd-38ee-4be6-9894-65e617c516d7",
   "metadata": {},
   "outputs": [
    {
     "name": "stdout",
     "output_type": "stream",
     "text": [
      "Mean CCAvg for Credit Card Holders: 1.9198231292517005\n",
      "Standard Deviation of CCAvg for Credit Card Holders: 1.7291547528179567\n"
     ]
    }
   ],
   "source": [
    "credit_card_holders = df[df['CreditCard'] == 1]\n",
    "ccavg_mean = np.mean(credit_card_holders['CCAvg'])\n",
    "ccavg_std = np.std(credit_card_holders['CCAvg'])\n",
    "print(\"Mean CCAvg for Credit Card Holders:\", ccavg_mean)\n",
    "print(\"Standard Deviation of CCAvg for Credit Card Holders:\", ccavg_std)"
   ]
  },
  {
   "cell_type": "markdown",
   "id": "4f29c90b-6338-4932-8c84-8372f2f412ad",
   "metadata": {},
   "source": [
    "#### Question 15. Do you see any outliers in the dataset? If yes, what plot you would think will be suitable to showcase to the stakeholders? "
   ]
  },
  {
   "cell_type": "code",
   "execution_count": 16,
   "id": "69b5ef05-42fe-46c3-a81d-882c5a826c6b",
   "metadata": {},
   "outputs": [
    {
     "name": "stdout",
     "output_type": "stream",
     "text": [
      "Outliers:\n",
      " ID                    False\n",
      "Age                   False\n",
      "Experience            False\n",
      "Income                 True\n",
      "ZIP Code               True\n",
      "Family                False\n",
      "CCAvg                  True\n",
      "Education             False\n",
      "Mortgage               True\n",
      "Personal Loan          True\n",
      "Securities Account     True\n",
      "CD Account             True\n",
      "Online                False\n",
      "CreditCard            False\n",
      "dtype: bool\n"
     ]
    }
   ],
   "source": [
    "Q1 = df.quantile(0.25)\n",
    "Q3 = df.quantile(0.75)\n",
    "IQR = Q3 - Q1\n",
    "outliers = ((df < (Q1 - 1.5 * IQR)) | (df > (Q3 + 1.5 * IQR)))\n",
    "print(\"Outliers:\\n\", outliers.any()) #  Detected Outliers using IQR"
   ]
  },
  {
   "cell_type": "markdown",
   "id": "e1abaa0a-6f65-4bca-9cc5-9cb1c6a60076",
   "metadata": {},
   "source": [
    "#### Question 16. Give us the decile values of the variable ‘Income’ in the dataset."
   ]
  },
  {
   "cell_type": "code",
   "execution_count": 17,
   "id": "fb3be71e-1a07-466f-825d-76aae17ec885",
   "metadata": {},
   "outputs": [
    {
     "name": "stdout",
     "output_type": "stream",
     "text": [
      "Deciles for Income:\n",
      "10th percentile: 22.0\n",
      "20th percentile: 33.0\n",
      "30th percentile: 42.0\n",
      "40th percentile: 52.0\n",
      "50th percentile: 64.0\n",
      "60th percentile: 78.0\n",
      "70th percentile: 88.29999999999973\n",
      "80th percentile: 113.0\n",
      "90th percentile: 145.0\n"
     ]
    }
   ],
   "source": [
    "deciles = np.percentile(df['Income'], np.arange(10, 100, 10))\n",
    "print(\"Deciles for Income:\")\n",
    "for i, value in enumerate(deciles, start=1):\n",
    "    print(f\"{i * 10}th percentile: {value}\")"
   ]
  },
  {
   "cell_type": "markdown",
   "id": "09402127-b72d-43e5-ac30-f5aaa12e23f7",
   "metadata": {},
   "source": [
    "#### Question 17. Give the IQR of all the variables which are quantitative and continuous."
   ]
  },
  {
   "cell_type": "code",
   "execution_count": 18,
   "id": "6539bc9c-fad0-4ab0-ad11-e74e9746daac",
   "metadata": {},
   "outputs": [
    {
     "name": "stdout",
     "output_type": "stream",
     "text": [
      "IQR for continuous variables:\n",
      " ID                    2499.5\n",
      "Age                     20.0\n",
      "Experience              20.0\n",
      "Income                  59.0\n",
      "ZIP Code              2697.0\n",
      "Family                   2.0\n",
      "CCAvg                    1.8\n",
      "Education                2.0\n",
      "Mortgage                 0.0\n",
      "Personal Loan            0.0\n",
      "Securities Account       0.0\n",
      "CD Account               0.0\n",
      "Online                   1.0\n",
      "CreditCard               1.0\n",
      "dtype: float64\n"
     ]
    }
   ],
   "source": [
    "Q1 = df.quantile(0.25)\n",
    "Q3 = df.quantile(0.75)\n",
    "IQR = Q3 - Q1\n",
    "\n",
    "print(\"IQR for continuous variables:\\n\", IQR)"
   ]
  },
  {
   "cell_type": "markdown",
   "id": "ff7240e7-c7b7-43f0-b634-390ec33c2d68",
   "metadata": {},
   "source": [
    "#### Question 18. Do the higher-income holders spend more on credit cards?"
   ]
  },
  {
   "cell_type": "code",
   "execution_count": 19,
   "id": "1c6a9afc-820c-40f9-806e-afb862fb5f54",
   "metadata": {},
   "outputs": [
    {
     "name": "stdout",
     "output_type": "stream",
     "text": [
      "Correlation between Income and CCAvg: 0.6459836696249653\n"
     ]
    }
   ],
   "source": [
    "correlation = df['Income'].corr(df['CCAvg'])\n",
    "print(\"Correlation between Income and CCAvg:\", correlation)"
   ]
  },
  {
   "cell_type": "markdown",
   "id": "1f285dc4-7a20-4361-a755-e267df8246f6",
   "metadata": {},
   "source": [
    "#### Question 19. How many customers use online banking? Do customers using bank internet facilities have higher incomes?"
   ]
  },
  {
   "cell_type": "code",
   "execution_count": 20,
   "id": "c89bc8a5-d575-4a2b-bfa9-38aac73dd18b",
   "metadata": {},
   "outputs": [
    {
     "name": "stdout",
     "output_type": "stream",
     "text": [
      "Number of customers using online banking: 2984\n"
     ]
    }
   ],
   "source": [
    "online_users = df['Online'].sum()\n",
    "print(\"Number of customers using online banking:\", online_users)"
   ]
  },
  {
   "cell_type": "code",
   "execution_count": 21,
   "id": "f4cc6b66-f4ff-4c2e-b1da-9b4fd026fa0c",
   "metadata": {},
   "outputs": [],
   "source": [
    "avg_income_online = df[df['Online'] == 1]['Income'].mean()\n",
    "avg_income_offline = df[df['Online'] == 0]['Income'].mean()"
   ]
  },
  {
   "cell_type": "code",
   "execution_count": 22,
   "id": "ad2e7305-7821-4eb9-b588-739357af0e95",
   "metadata": {},
   "outputs": [
    {
     "name": "stdout",
     "output_type": "stream",
     "text": [
      "Average income of online users: 74.31166219839142\n",
      "Average income of non-online users: 72.97867063492063\n"
     ]
    }
   ],
   "source": [
    "print(\"Average income of online users:\", avg_income_online)\n",
    "print(\"Average income of non-online users:\", avg_income_offline)"
   ]
  },
  {
   "cell_type": "markdown",
   "id": "d673e425-946e-43aa-b6ca-b20861080d8a",
   "metadata": {},
   "source": [
    "#### Question 20. Using the z-score of the income variable, find out the number of observations outside the +-3σ."
   ]
  },
  {
   "cell_type": "code",
   "execution_count": 23,
   "id": "eef16666-99a3-4b6b-82da-e8abd522b871",
   "metadata": {},
   "outputs": [],
   "source": [
    "z_scores_income = (df['Income'] - df['Income'].mean()) / df['Income'].std()"
   ]
  },
  {
   "cell_type": "code",
   "execution_count": 24,
   "id": "fcbb97ab-19ad-4473-a24c-898b0d729d3a",
   "metadata": {},
   "outputs": [
    {
     "name": "stdout",
     "output_type": "stream",
     "text": [
      "Number of observations outside ±3σ: 2\n"
     ]
    }
   ],
   "source": [
    "outliers = df[np.abs(z_scores_income) > 3]\n",
    "print(\"Number of observations outside ±3σ:\", len(outliers))"
   ]
  },
  {
   "cell_type": "markdown",
   "id": "c6ce12d1-c61f-401f-b5e0-7aec3c59dd32",
   "metadata": {},
   "source": [
    "# End"
   ]
  }
 ],
 "metadata": {
  "kernelspec": {
   "display_name": "Python 3 (ipykernel)",
   "language": "python",
   "name": "python3"
  },
  "language_info": {
   "codemirror_mode": {
    "name": "ipython",
    "version": 3
   },
   "file_extension": ".py",
   "mimetype": "text/x-python",
   "name": "python",
   "nbconvert_exporter": "python",
   "pygments_lexer": "ipython3",
   "version": "3.12.4"
  }
 },
 "nbformat": 4,
 "nbformat_minor": 5
}
